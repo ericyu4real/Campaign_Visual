{
 "cells": [
  {
   "cell_type": "code",
   "execution_count": 25,
   "metadata": {},
   "outputs": [],
   "source": [
    "import pandas as pd\n",
    "df=pd.read_excel(\"Raw Media (2023 to 2025).xlsx\",index_col=\"Date\")\n",
    "df.index=df.index.date"
   ]
  },
  {
   "cell_type": "code",
   "execution_count": 26,
   "metadata": {},
   "outputs": [],
   "source": [
    "\n",
    "# Define the mapping for brand names\n",
    "brand_mapping = {\n",
    "    'Dove': ['Dove', 'DOVE', 'DOVE ', 'Dove ', 'CA_Dove_Unilever', 'Dove Hair'],\n",
    "    'LIV': ['Liquid I.V', 'Liquid IV', 'Liquid-IV', 'LiquidIV'],\n",
    "    'HM': [\"HELLMANN'S\", \"HELLMANN'S \", \"Hellmann'S\", \"Hellmann's\", 'Hellmanns', \"Hellman's\", \"Hellmann's 2023\", \"Hellmann's 2025\"],\n",
    "    'TRES': ['TRESemme', 'TRESemmé', 'Tresemme', 'Ethereal-(Tresemme)CN006298'],\n",
    "    'DMC': ['DM+C', 'Dove Men+C', 'Dove Men+Care', 'Dove-Men+Care', 'DoveMenCare', 'Dove Men + Care', 'DoveMenCare'],\n",
    "    'Knorr': ['KNORR', 'KNORR ', 'Knorr', 'Knorr 2022', 'Knorr 2025'],\n",
    "    'Axe': ['AXE', 'Axe']\n",
    "}\n",
    "\n",
    "# Function to standardize brand names\n",
    "def standardize_brand(brand):\n",
    "    for standard, variations in brand_mapping.items():\n",
    "        if brand in variations:\n",
    "            return standard\n",
    "    return brand\n",
    "\n",
    "# Apply the standardization function\n",
    "df['Brand'] = df['Brand'].apply(standardize_brand)\n",
    "\n",
    "def clean_dove_category(row):\n",
    "    if row['Brand'] == 'Dove':\n",
    "        cat = row['Category']\n",
    "        if pd.isna(cat):\n",
    "            return cat\n",
    "        cat = cat.strip().lower()\n",
    "        if 'deo' in cat:\n",
    "            return 'Deo'\n",
    "        elif 'hair' in cat:\n",
    "            return 'Hair'\n",
    "        elif 'skin cleansing' in cat:\n",
    "            return 'SC'\n",
    "    return row['Category']\n",
    "\n",
    "df['Category'] = df.apply(clean_dove_category, axis=1)\n"
   ]
  },
  {
   "cell_type": "code",
   "execution_count": 27,
   "metadata": {},
   "outputs": [],
   "source": [
    "#programmatic type mapping\n",
    "type_mapping = {\n",
    "    'Video': [\n",
    "        'Video',\n",
    "        'APEX',\n",
    "        'YT',\n",
    "        'Twitch',\n",
    "        'YT Select',\n",
    "        'YT Auction',\n",
    "        'CTV',\n",
    "        'YT CTV',\n",
    "        'Studio 71',\n",
    "        'Roku',\n",
    "        'StreamingTV',\n",
    "        'YT Shorts',\n",
    "        'PrimeVideo',\n",
    "        'YT Video Reach',\n",
    "        'YT VRC 2.0',\n",
    "        'YT Reach Proximity',\n",
    "        'DEOFGRUND_Dove_Victoria(Dove)-CN006057_BrdPrecPerf_Vid_Conv_Performance+-Video-Brand-EN-Revised-O-4Y9TH',\n",
    "        'BOUSEA_Taste-Combos-(Masterbrand-Knorr)-CN004968_BrdPerf_Awa_YT_FR_O-52W9H',\n",
    "        'BOUSEA_Taste-Combos-(Masterbrand-Knorr)-CN004968_BrdPerf_Awa_YT_EN_O-52W9H',\n",
    "        'PHCUND_Unilever-Brand-Range_Always-On-CN000557_BrdPerf_Vid_Awa_Prime-Big-Deals-Day-2024_Lead_Up',\n",
    "        'Perseus(Dove-Men+Care)-CN006302_BrdPerf_Awa_DirectorsMix_EN_O-53J0S',\n",
    "        \"MAYO_Hellmann's_Magnumise-(Hellmann's)-CN004967_BrdPerf_TrVAuc_Awa_FR_O-5430X\",\n",
    "        \"MAYO_Hellmann's_Magnumise-(Hellmann's)-CN004967_BrdPerf_TrVAuc_Awa_En_O-5430X\",\n",
    "        \"MAYO_Hellmann's_Magnumise-(Hellmann's)-CN004967_BrdPerf_TrVAuc_Awa_Directorsmix_En_O-5430X\",\n",
    "        'PHCUND_Dove_Most-Likely-(Dove)-CN009626_BrdPerf_TrVInsRes_Awa_O-511SN',\n",
    "        'Performance Video',\n",
    "        'Directors Mix',\n",
    "        'TrVInsRes',\n",
    "        'TrVAuc',\n",
    "        'Dove_DEO_Emule-(Dove)-CN007414_BrdPerf_Awa_Prog_Demo_Broad_W18-54_En_O-52CRG',\n",
    "        'Dove_DEO_Emule-(Dove)-CN007414_BrdPerf_Awa_Prog_Demo_Broad_W18-54_En_O-52CRG_2'\n",
    "],\n",
    "    'Audio': ['Spotify', 'Audio'],\n",
    "    'Display': ['Display','NatDisp']\n",
    "}\n",
    "\n",
    "def map_ad_format(row):\n",
    "    specific_type = row['Specific Ad Type']\n",
    "    for standard, variations in type_mapping.items():\n",
    "        if specific_type in variations:\n",
    "            return standard\n",
    "    return row['Ad Format']  # Keep original if no match\n",
    "\n",
    "df['Ad Format'] = df.apply(map_ad_format, axis=1)"
   ]
  },
  {
   "cell_type": "code",
   "execution_count": 28,
   "metadata": {},
   "outputs": [],
   "source": [
    "df['Impressions'] = df['Impressions'].replace('\\xa0', None, regex=True)"
   ]
  },
  {
   "cell_type": "code",
   "execution_count": 29,
   "metadata": {},
   "outputs": [
    {
     "data": {
      "text/plain": [
       "array([nan, 'Spotify', 'Display', 'YT', 'Video', 'Twitch', 'YT Select',\n",
       "       'YT Auction', 'CTV', 'YT CTV', 'NatDisp', 'Studio 71', 'Roku',\n",
       "       'APEX', 'StreamingTV', 'Audio', 'YT Shorts', 'YT Video Reach',\n",
       "       'YT VRC 2.0', 'YT Reach Proximity',\n",
       "       'Dove_DEO_Emule-(Dove)-CN007414_BrdPerf_Awa_Prog_Demo_Broad_W18-54_En_O-52CRG',\n",
       "       'BOUSEA_Taste-Combos-(Masterbrand-Knorr)-CN004968_BrdPerf_Awa_YT_FR_O-52W9H',\n",
       "       'BOUSEA_Taste-Combos-(Masterbrand-Knorr)-CN004968_BrdPerf_Awa_YT_EN_O-52W9H',\n",
       "       'Dove_DEO_Emule-(Dove)-CN007414_BrdPerf_Awa_Prog_Demo_Broad_W18-54_En_O-52CRG_2',\n",
       "       'Perseus(Dove-Men+Care)-CN006302_BrdPerf_Awa_DirectorsMix_EN_O-53J0S',\n",
       "       \"MAYO_Hellmann's_Magnumise-(Hellmann's)-CN004967_BrdPerf_TrVAuc_Awa_FR_O-5430X\",\n",
       "       \"MAYO_Hellmann's_Magnumise-(Hellmann's)-CN004967_BrdPerf_TrVAuc_Awa_En_O-5430X\",\n",
       "       \"MAYO_Hellmann's_Magnumise-(Hellmann's)-CN004967_BrdPerf_TrVAuc_Awa_Directorsmix_En_O-5430X\",\n",
       "       'PHCUND_Dove_Most-Likely-(Dove)-CN009626_BrdPerf_TrVInsRes_Awa_O-511SN',\n",
       "       'Directors Mix', 'TrVInsRes', 'TrVAuc', 15, 30, 'Standard'],\n",
       "      dtype=object)"
      ]
     },
     "execution_count": 29,
     "metadata": {},
     "output_type": "execute_result"
    }
   ],
   "source": [
    "df[\"Specific Ad Type\"].unique()"
   ]
  },
  {
   "cell_type": "code",
   "execution_count": 30,
   "metadata": {},
   "outputs": [
    {
     "data": {
      "text/plain": [
       "array([nan, 'Audio', 'Display', 'Video', 'English', 'French'],\n",
       "      dtype=object)"
      ]
     },
     "execution_count": 30,
     "metadata": {},
     "output_type": "execute_result"
    }
   ],
   "source": [
    "df[\"Ad Format\"].unique()"
   ]
  },
  {
   "cell_type": "code",
   "execution_count": 31,
   "metadata": {},
   "outputs": [
    {
     "name": "stdout",
     "output_type": "stream",
     "text": [
      "['Axe', 'Ben & Jerry', \"Ben & Jerry's\", \"Ben & Jerry's \", \"Ben&Jerry's\", \"Ben-&-Jerry's\", 'BenJerrys', 'Best Foods', 'Breyer', 'Breyers', 'DMC', 'Degree', 'Dollar Shave Club', 'Dove', 'Enterprise', 'Food-Solutions', 'FoodSolutions', 'HM', 'Klondike', 'Knorr', 'LIV', 'Magnum', 'Magnum ', 'Magnum Duets', 'Meals-That-Matter', 'MealsThatMatter', 'National Ramen Day', 'Nexxus', 'OLLY', 'Olly', 'SVG', \"Schmidt's\", 'Schmidts', 'Shea Moisture', 'SheaMoisture', 'TRES', 'Talenti', 'UL Corporate', 'Unilever Food Solutions', 'Unilever-Brand-Range', 'VASELINE', 'VASELINE ', 'VIM', 'Vaseline', 'Vim', 'Vim Pureboost', 'Yasso']\n",
      "['Meta' 'TikTok' 'Pinterest' 'Snapchat' 'Instacart' 'DV360' 'Twitch' 'TTD'\n",
      " 'Google Ads' 'TV' 'Amazon FireTV' 'Mirrors(Youtube)' 'Stingray'\n",
      " 'ViStar Media' 'Spotify' 'Pelmorex' 'Zefr' 'Samsung Ads' 'Tiktok']\n",
      "['SC' 'Hair' 'Personal Care Unidentified' 'Deo' 'Skin Care'\n",
      " 'Perseus(Dove-Men+Care)-CN006302' 'HBCARE' 'HABL' 'Masterbrand' nan\n",
      " 'BPCUND' 'PCUND' 'Unspecified' 'SKINCARE']\n"
     ]
    }
   ],
   "source": [
    "#checking\n",
    "print(sorted(df[\"Brand\"].unique()))\n",
    "print(df[\"Platform\"].unique())\n",
    "print(df[df[\"Brand\"]==\"Dove\"][\"Category\"].unique())"
   ]
  },
  {
   "cell_type": "code",
   "execution_count": null,
   "metadata": {},
   "outputs": [],
   "source": [
    "brand_list = ['Dove','Axe','HM','TRES','Knorr','LIV','DMC']\n",
    "for brand in brand_list:\n",
    "    amz_pro = pd.read_csv(f'../data/AMZ_sales/{brand}/CreativeGrainNationalCampaignPerformanceMetrics.tsv', sep='\\t', index_col=\"Week Ending\")\n",
    "    amz_search = pd.read_csv(f'../data/AMZ_sales/{brand}/SSPANationalCampaignPerformanceMetrics.tsv', sep='\\t', index_col=\"Week Ending\")\n",
    "    \n",
    "    amz_pro = amz_pro[[\"Brand\", \"Campaign Name\", \"Creative Tactic\", \"Spend\", \"Impressions\"]]\n",
    "    amz_search = amz_search[[\"Brand\", \"Campaign Name\", \"Spend\", \"Impressions\"]]\n",
    "    \n",
    "    amz_pro.index=[string[4:] for string in amz_pro.index]\n",
    "    amz_pro.index=pd.to_datetime(amz_pro.index).date\n",
    "    amz_search.index=[string[4:] for string in amz_search.index]\n",
    "    amz_search.index=pd.to_datetime(amz_search.index).date\n",
    "    \n",
    "    amz_pro = amz_pro.rename(columns={\"Creative Tactic\":\"Ad Format\"})\n",
    "    # amz_search = amz_search.rename(columns={\"Week Ending\":\"Date\"})\n",
    "    \n",
    "    amz_pro[\"Brand\"]=brand\n",
    "    amz_pro[\"Platform\"]=\"Amazon\"\n",
    "    amz_search[\"Brand\"]=brand\n",
    "    amz_search[\"Platform\"]=\"Amazon Search\"\n",
    "    \n",
    "    ## concat\n",
    "    df = pd.concat([df, amz_pro], axis=0)\n",
    "    df = pd.concat([df, amz_search], axis=0)"
   ]
  },
  {
   "cell_type": "code",
   "execution_count": 90,
   "metadata": {},
   "outputs": [],
   "source": [
    "df.to_excel(\"temp.xlsx\",index=True,index_label=\"Date\")"
   ]
  }
 ],
 "metadata": {
  "kernelspec": {
   "display_name": "Python 3",
   "language": "python",
   "name": "python3"
  },
  "language_info": {
   "codemirror_mode": {
    "name": "ipython",
    "version": 3
   },
   "file_extension": ".py",
   "mimetype": "text/x-python",
   "name": "python",
   "nbconvert_exporter": "python",
   "pygments_lexer": "ipython3",
   "version": "3.10.12"
  }
 },
 "nbformat": 4,
 "nbformat_minor": 2
}
